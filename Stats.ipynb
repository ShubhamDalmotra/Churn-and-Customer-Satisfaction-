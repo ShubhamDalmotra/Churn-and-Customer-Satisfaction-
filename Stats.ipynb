{
 "cells": [
  {
   "cell_type": "code",
   "execution_count": 131,
   "id": "8dd3decc",
   "metadata": {},
   "outputs": [],
   "source": [
    "import os\n",
    "import pandas as pd\n",
    "import numpy as np\n",
    "import seaborn as sns\n",
    "import matplotlib.pyplot as plt"
   ]
  },
  {
   "cell_type": "code",
   "execution_count": 11,
   "id": "add9cac3",
   "metadata": {},
   "outputs": [
    {
     "data": {
      "text/plain": [
       "'F:\\\\Data science\\\\Projects\\\\Stat project'"
      ]
     },
     "execution_count": 11,
     "metadata": {},
     "output_type": "execute_result"
    }
   ],
   "source": [
    "os.getcwd()"
   ]
  },
  {
   "cell_type": "code",
   "execution_count": 12,
   "id": "81acc3a2",
   "metadata": {},
   "outputs": [],
   "source": [
    "os.chdir(r'F:\\Data science\\Projects\\Stat project')"
   ]
  },
  {
   "cell_type": "code",
   "execution_count": 14,
   "id": "3dcdab8b",
   "metadata": {},
   "outputs": [],
   "source": [
    "df =pd.read_csv('Capstone1.csv')"
   ]
  },
  {
   "cell_type": "code",
   "execution_count": 16,
   "id": "593805eb",
   "metadata": {},
   "outputs": [
    {
     "data": {
      "text/html": [
       "<div>\n",
       "<style scoped>\n",
       "    .dataframe tbody tr th:only-of-type {\n",
       "        vertical-align: middle;\n",
       "    }\n",
       "\n",
       "    .dataframe tbody tr th {\n",
       "        vertical-align: top;\n",
       "    }\n",
       "\n",
       "    .dataframe thead th {\n",
       "        text-align: right;\n",
       "    }\n",
       "</style>\n",
       "<table border=\"1\" class=\"dataframe\">\n",
       "  <thead>\n",
       "    <tr style=\"text-align: right;\">\n",
       "      <th></th>\n",
       "      <th>Unnamed: 0</th>\n",
       "      <th>Customer ID</th>\n",
       "      <th>Age</th>\n",
       "      <th>Gender</th>\n",
       "      <th>Region</th>\n",
       "      <th>Order Frequency</th>\n",
       "      <th>Average Order Value</th>\n",
       "      <th>Product Categories</th>\n",
       "      <th>Satisfaction Score</th>\n",
       "      <th>Churn</th>\n",
       "    </tr>\n",
       "  </thead>\n",
       "  <tbody>\n",
       "    <tr>\n",
       "      <th>0</th>\n",
       "      <td>0</td>\n",
       "      <td>1</td>\n",
       "      <td>63</td>\n",
       "      <td>Male</td>\n",
       "      <td>South</td>\n",
       "      <td>8</td>\n",
       "      <td>72.939689</td>\n",
       "      <td>Home</td>\n",
       "      <td>4</td>\n",
       "      <td>0</td>\n",
       "    </tr>\n",
       "    <tr>\n",
       "      <th>1</th>\n",
       "      <td>1</td>\n",
       "      <td>2</td>\n",
       "      <td>20</td>\n",
       "      <td>Male</td>\n",
       "      <td>North</td>\n",
       "      <td>5</td>\n",
       "      <td>33.997872</td>\n",
       "      <td>Books</td>\n",
       "      <td>4</td>\n",
       "      <td>0</td>\n",
       "    </tr>\n",
       "    <tr>\n",
       "      <th>2</th>\n",
       "      <td>2</td>\n",
       "      <td>3</td>\n",
       "      <td>46</td>\n",
       "      <td>Male</td>\n",
       "      <td>West</td>\n",
       "      <td>9</td>\n",
       "      <td>207.372406</td>\n",
       "      <td>Electronics</td>\n",
       "      <td>1</td>\n",
       "      <td>0</td>\n",
       "    </tr>\n",
       "    <tr>\n",
       "      <th>3</th>\n",
       "      <td>3</td>\n",
       "      <td>4</td>\n",
       "      <td>52</td>\n",
       "      <td>Female</td>\n",
       "      <td>East</td>\n",
       "      <td>3</td>\n",
       "      <td>433.545244</td>\n",
       "      <td>Books</td>\n",
       "      <td>1</td>\n",
       "      <td>0</td>\n",
       "    </tr>\n",
       "    <tr>\n",
       "      <th>4</th>\n",
       "      <td>4</td>\n",
       "      <td>5</td>\n",
       "      <td>56</td>\n",
       "      <td>Male</td>\n",
       "      <td>West</td>\n",
       "      <td>1</td>\n",
       "      <td>347.219821</td>\n",
       "      <td>Home</td>\n",
       "      <td>4</td>\n",
       "      <td>1</td>\n",
       "    </tr>\n",
       "    <tr>\n",
       "      <th>5</th>\n",
       "      <td>5</td>\n",
       "      <td>6</td>\n",
       "      <td>35</td>\n",
       "      <td>Female</td>\n",
       "      <td>South</td>\n",
       "      <td>1</td>\n",
       "      <td>375.962790</td>\n",
       "      <td>Beauty</td>\n",
       "      <td>2</td>\n",
       "      <td>0</td>\n",
       "    </tr>\n",
       "    <tr>\n",
       "      <th>6</th>\n",
       "      <td>6</td>\n",
       "      <td>7</td>\n",
       "      <td>37</td>\n",
       "      <td>Male</td>\n",
       "      <td>South</td>\n",
       "      <td>3</td>\n",
       "      <td>332.266021</td>\n",
       "      <td>Electronics</td>\n",
       "      <td>3</td>\n",
       "      <td>1</td>\n",
       "    </tr>\n",
       "    <tr>\n",
       "      <th>7</th>\n",
       "      <td>7</td>\n",
       "      <td>8</td>\n",
       "      <td>60</td>\n",
       "      <td>Male</td>\n",
       "      <td>North</td>\n",
       "      <td>1</td>\n",
       "      <td>468.850990</td>\n",
       "      <td>Home</td>\n",
       "      <td>3</td>\n",
       "      <td>0</td>\n",
       "    </tr>\n",
       "    <tr>\n",
       "      <th>8</th>\n",
       "      <td>8</td>\n",
       "      <td>9</td>\n",
       "      <td>40</td>\n",
       "      <td>Male</td>\n",
       "      <td>West</td>\n",
       "      <td>8</td>\n",
       "      <td>196.015650</td>\n",
       "      <td>Clothing</td>\n",
       "      <td>1</td>\n",
       "      <td>0</td>\n",
       "    </tr>\n",
       "    <tr>\n",
       "      <th>9</th>\n",
       "      <td>9</td>\n",
       "      <td>10</td>\n",
       "      <td>51</td>\n",
       "      <td>Female</td>\n",
       "      <td>East</td>\n",
       "      <td>5</td>\n",
       "      <td>374.586758</td>\n",
       "      <td>Clothing</td>\n",
       "      <td>1</td>\n",
       "      <td>1</td>\n",
       "    </tr>\n",
       "  </tbody>\n",
       "</table>\n",
       "</div>"
      ],
      "text/plain": [
       "   Unnamed: 0  Customer ID  Age  Gender Region  Order Frequency  \\\n",
       "0           0            1   63    Male  South                8   \n",
       "1           1            2   20    Male  North                5   \n",
       "2           2            3   46    Male   West                9   \n",
       "3           3            4   52  Female   East                3   \n",
       "4           4            5   56    Male   West                1   \n",
       "5           5            6   35  Female  South                1   \n",
       "6           6            7   37    Male  South                3   \n",
       "7           7            8   60    Male  North                1   \n",
       "8           8            9   40    Male   West                8   \n",
       "9           9           10   51  Female   East                5   \n",
       "\n",
       "   Average Order Value Product Categories  Satisfaction Score  Churn  \n",
       "0            72.939689               Home                   4      0  \n",
       "1            33.997872              Books                   4      0  \n",
       "2           207.372406        Electronics                   1      0  \n",
       "3           433.545244              Books                   1      0  \n",
       "4           347.219821               Home                   4      1  \n",
       "5           375.962790             Beauty                   2      0  \n",
       "6           332.266021        Electronics                   3      1  \n",
       "7           468.850990               Home                   3      0  \n",
       "8           196.015650           Clothing                   1      0  \n",
       "9           374.586758           Clothing                   1      1  "
      ]
     },
     "execution_count": 16,
     "metadata": {},
     "output_type": "execute_result"
    }
   ],
   "source": [
    "df.head(10)"
   ]
  },
  {
   "cell_type": "code",
   "execution_count": 24,
   "id": "fbc4563f",
   "metadata": {
    "scrolled": true
   },
   "outputs": [
    {
     "data": {
      "text/html": [
       "<div>\n",
       "<style scoped>\n",
       "    .dataframe tbody tr th:only-of-type {\n",
       "        vertical-align: middle;\n",
       "    }\n",
       "\n",
       "    .dataframe tbody tr th {\n",
       "        vertical-align: top;\n",
       "    }\n",
       "\n",
       "    .dataframe thead th {\n",
       "        text-align: right;\n",
       "    }\n",
       "</style>\n",
       "<table border=\"1\" class=\"dataframe\">\n",
       "  <thead>\n",
       "    <tr style=\"text-align: right;\">\n",
       "      <th></th>\n",
       "      <th>Customer ID</th>\n",
       "      <th>Age</th>\n",
       "      <th>Gender</th>\n",
       "      <th>Region</th>\n",
       "      <th>Order Frequency</th>\n",
       "      <th>Average Order Value</th>\n",
       "      <th>Product Categories</th>\n",
       "      <th>Satisfaction Score</th>\n",
       "      <th>Churn</th>\n",
       "    </tr>\n",
       "  </thead>\n",
       "  <tbody>\n",
       "    <tr>\n",
       "      <th>0</th>\n",
       "      <td>1</td>\n",
       "      <td>63</td>\n",
       "      <td>Male</td>\n",
       "      <td>South</td>\n",
       "      <td>8</td>\n",
       "      <td>72.939689</td>\n",
       "      <td>Home</td>\n",
       "      <td>4</td>\n",
       "      <td>0</td>\n",
       "    </tr>\n",
       "    <tr>\n",
       "      <th>1</th>\n",
       "      <td>2</td>\n",
       "      <td>20</td>\n",
       "      <td>Male</td>\n",
       "      <td>North</td>\n",
       "      <td>5</td>\n",
       "      <td>33.997872</td>\n",
       "      <td>Books</td>\n",
       "      <td>4</td>\n",
       "      <td>0</td>\n",
       "    </tr>\n",
       "    <tr>\n",
       "      <th>2</th>\n",
       "      <td>3</td>\n",
       "      <td>46</td>\n",
       "      <td>Male</td>\n",
       "      <td>West</td>\n",
       "      <td>9</td>\n",
       "      <td>207.372406</td>\n",
       "      <td>Electronics</td>\n",
       "      <td>1</td>\n",
       "      <td>0</td>\n",
       "    </tr>\n",
       "    <tr>\n",
       "      <th>3</th>\n",
       "      <td>4</td>\n",
       "      <td>52</td>\n",
       "      <td>Female</td>\n",
       "      <td>East</td>\n",
       "      <td>3</td>\n",
       "      <td>433.545244</td>\n",
       "      <td>Books</td>\n",
       "      <td>1</td>\n",
       "      <td>0</td>\n",
       "    </tr>\n",
       "    <tr>\n",
       "      <th>4</th>\n",
       "      <td>5</td>\n",
       "      <td>56</td>\n",
       "      <td>Male</td>\n",
       "      <td>West</td>\n",
       "      <td>1</td>\n",
       "      <td>347.219821</td>\n",
       "      <td>Home</td>\n",
       "      <td>4</td>\n",
       "      <td>1</td>\n",
       "    </tr>\n",
       "  </tbody>\n",
       "</table>\n",
       "</div>"
      ],
      "text/plain": [
       "   Customer ID  Age  Gender Region  Order Frequency  Average Order Value  \\\n",
       "0            1   63    Male  South                8            72.939689   \n",
       "1            2   20    Male  North                5            33.997872   \n",
       "2            3   46    Male   West                9           207.372406   \n",
       "3            4   52  Female   East                3           433.545244   \n",
       "4            5   56    Male   West                1           347.219821   \n",
       "\n",
       "  Product Categories  Satisfaction Score  Churn  \n",
       "0               Home                   4      0  \n",
       "1              Books                   4      0  \n",
       "2        Electronics                   1      0  \n",
       "3              Books                   1      0  \n",
       "4               Home                   4      1  "
      ]
     },
     "execution_count": 24,
     "metadata": {},
     "output_type": "execute_result"
    }
   ],
   "source": [
    "df.head()"
   ]
  },
  {
   "cell_type": "markdown",
   "id": "721fe1fd",
   "metadata": {},
   "source": [
    "# Give probability of gender male in gender column. Write the answer as a percentage "
   ]
  },
  {
   "cell_type": "code",
   "execution_count": 157,
   "id": "e0d57c56",
   "metadata": {},
   "outputs": [
    {
     "data": {
      "text/plain": [
       "51.2"
      ]
     },
     "execution_count": 157,
     "metadata": {},
     "output_type": "execute_result"
    }
   ],
   "source": [
    "len(df[df['Gender']=='Male'])/len(df['Gender']) *100"
   ]
  },
  {
   "cell_type": "code",
   "execution_count": null,
   "id": "80bff975",
   "metadata": {},
   "outputs": [],
   "source": []
  },
  {
   "cell_type": "code",
   "execution_count": 33,
   "id": "7161ea26",
   "metadata": {},
   "outputs": [
    {
     "data": {
      "text/plain": [
       "1000"
      ]
     },
     "execution_count": 33,
     "metadata": {},
     "output_type": "execute_result"
    }
   ],
   "source": [
    "len(df['Gender'])"
   ]
  },
  {
   "cell_type": "markdown",
   "id": "3dbc052b",
   "metadata": {},
   "source": [
    "# Give probability of gender female in gender column. Write the answer as a percentage"
   ]
  },
  {
   "cell_type": "code",
   "execution_count": 36,
   "id": "ea78c2da",
   "metadata": {},
   "outputs": [
    {
     "data": {
      "text/plain": [
       "48.8"
      ]
     },
     "execution_count": 36,
     "metadata": {},
     "output_type": "execute_result"
    }
   ],
   "source": [
    "len(df[df['Gender']=='Female'])/len(df['Gender']) *100"
   ]
  },
  {
   "cell_type": "code",
   "execution_count": null,
   "id": "32cdca0b",
   "metadata": {},
   "outputs": [],
   "source": []
  },
  {
   "cell_type": "code",
   "execution_count": 46,
   "id": "e9104a6b",
   "metadata": {},
   "outputs": [
    {
     "data": {
      "text/plain": [
       "207"
      ]
     },
     "execution_count": 46,
     "metadata": {},
     "output_type": "execute_result"
    }
   ],
   "source": [
    "len(df[df['Churn']==1])"
   ]
  },
  {
   "cell_type": "code",
   "execution_count": 47,
   "id": "e667715f",
   "metadata": {},
   "outputs": [
    {
     "data": {
      "text/plain": [
       "1000"
      ]
     },
     "execution_count": 47,
     "metadata": {},
     "output_type": "execute_result"
    }
   ],
   "source": [
    "len(df['Churn'])"
   ]
  },
  {
   "cell_type": "code",
   "execution_count": 48,
   "id": "1a7e2c9c",
   "metadata": {},
   "outputs": [
    {
     "data": {
      "text/plain": [
       "0    793\n",
       "1    207\n",
       "Name: Churn, dtype: int64"
      ]
     },
     "execution_count": 48,
     "metadata": {},
     "output_type": "execute_result"
    }
   ],
   "source": [
    "df['Churn'].value_counts()"
   ]
  },
  {
   "cell_type": "code",
   "execution_count": 59,
   "id": "069045e2",
   "metadata": {},
   "outputs": [
    {
     "data": {
      "text/plain": [
       "793"
      ]
     },
     "execution_count": 59,
     "metadata": {},
     "output_type": "execute_result"
    }
   ],
   "source": [
    "len(df[df['Churn']==0])"
   ]
  },
  {
   "cell_type": "markdown",
   "id": "3644197b",
   "metadata": {},
   "source": [
    "# Give Churn probability in data"
   ]
  },
  {
   "cell_type": "code",
   "execution_count": 62,
   "id": "bf0e7f2c",
   "metadata": {},
   "outputs": [
    {
     "data": {
      "text/plain": [
       "20.7"
      ]
     },
     "execution_count": 62,
     "metadata": {},
     "output_type": "execute_result"
    }
   ],
   "source": [
    "len(df[df['Churn']==1])/len(df['Churn'])*100"
   ]
  },
  {
   "cell_type": "code",
   "execution_count": 63,
   "id": "ac8453d7",
   "metadata": {},
   "outputs": [
    {
     "data": {
      "text/plain": [
       "253.3209285338185"
      ]
     },
     "execution_count": 63,
     "metadata": {},
     "output_type": "execute_result"
    }
   ],
   "source": [
    "df['Average Order Value'].mean()"
   ]
  },
  {
   "cell_type": "markdown",
   "id": "66db7bf8",
   "metadata": {},
   "source": [
    "# Give descriptive stats for average order value"
   ]
  },
  {
   "cell_type": "code",
   "execution_count": 65,
   "id": "0bd7aa40",
   "metadata": {},
   "outputs": [
    {
     "data": {
      "text/plain": [
       "count    1000.000000\n",
       "mean      253.320929\n",
       "std       142.203103\n",
       "min        10.316385\n",
       "25%       132.191879\n",
       "50%       249.156368\n",
       "75%       375.917444\n",
       "max       499.838995\n",
       "Name: Average Order Value, dtype: float64"
      ]
     },
     "execution_count": 65,
     "metadata": {},
     "output_type": "execute_result"
    }
   ],
   "source": [
    "df['Average Order Value'].describe()"
   ]
  },
  {
   "cell_type": "code",
   "execution_count": 66,
   "id": "bac5998f",
   "metadata": {},
   "outputs": [
    {
     "data": {
      "text/plain": [
       "243.72000000000003"
      ]
     },
     "execution_count": 66,
     "metadata": {},
     "output_type": "execute_result"
    }
   ],
   "source": [
    "375.91-132.19"
   ]
  },
  {
   "cell_type": "code",
   "execution_count": 70,
   "id": "215c359a",
   "metadata": {},
   "outputs": [
    {
     "data": {
      "text/plain": [
       "Region\n",
       "West     1123\n",
       "North    1204\n",
       "South    1314\n",
       "East     1443\n",
       "Name: Order Frequency, dtype: int64"
      ]
     },
     "execution_count": 70,
     "metadata": {},
     "output_type": "execute_result"
    }
   ],
   "source": [
    "df.groupby('Region')['Order Frequency'].sum().sort_values(ascending =True)"
   ]
  },
  {
   "cell_type": "markdown",
   "id": "9bf3637d",
   "metadata": {},
   "source": [
    "# Analyse which category has the highest order and lowest order"
   ]
  },
  {
   "cell_type": "code",
   "execution_count": 73,
   "id": "22cf90f6",
   "metadata": {},
   "outputs": [
    {
     "data": {
      "text/plain": [
       "Product Categories\n",
       "Clothing       1110\n",
       "Home           1061\n",
       "Electronics    1029\n",
       "Beauty          952\n",
       "Books           932\n",
       "Name: Order Frequency, dtype: int64"
      ]
     },
     "execution_count": 73,
     "metadata": {},
     "output_type": "execute_result"
    }
   ],
   "source": [
    "df.groupby('Product Categories')['Order Frequency'].sum().sort_values(ascending =False)"
   ]
  },
  {
   "cell_type": "markdown",
   "id": "778c0c1d",
   "metadata": {},
   "source": [
    "# Find out which category has the highest satisfaction scores and which category has the lowest.\n",
    "\n"
   ]
  },
  {
   "cell_type": "code",
   "execution_count": 77,
   "id": "eaa9b73b",
   "metadata": {},
   "outputs": [
    {
     "data": {
      "text/plain": [
       "Product Categories\n",
       "Books          458\n",
       "Beauty         466\n",
       "Electronics    511\n",
       "Home           536\n",
       "Clothing       551\n",
       "Name: Satisfaction Score, dtype: int64"
      ]
     },
     "execution_count": 77,
     "metadata": {},
     "output_type": "execute_result"
    }
   ],
   "source": [
    "df.groupby('Product Categories')['Satisfaction Score'].sum().sort_values(ascending =True)"
   ]
  },
  {
   "cell_type": "markdown",
   "id": "628dbb63",
   "metadata": {},
   "source": [
    "# Find out which category and region has a high churning rate and which has a low"
   ]
  },
  {
   "cell_type": "code",
   "execution_count": 83,
   "id": "d6522b71",
   "metadata": {},
   "outputs": [
    {
     "data": {
      "text/plain": [
       "Product Categories\n",
       "Home           47\n",
       "Electronics    45\n",
       "Beauty         43\n",
       "Clothing       39\n",
       "Books          33\n",
       "Name: Churn, dtype: int64"
      ]
     },
     "execution_count": 83,
     "metadata": {},
     "output_type": "execute_result"
    }
   ],
   "source": [
    "df.groupby('Product Categories')['Churn'].sum().sort_values(ascending =False)"
   ]
  },
  {
   "cell_type": "code",
   "execution_count": 88,
   "id": "078cb397",
   "metadata": {},
   "outputs": [],
   "source": [
    "churning_rate_by_category = df.groupby('Product Categories')['Churn'].mean()"
   ]
  },
  {
   "cell_type": "code",
   "execution_count": 89,
   "id": "905a3d43",
   "metadata": {},
   "outputs": [
    {
     "data": {
      "text/plain": [
       "'Beauty'"
      ]
     },
     "execution_count": 89,
     "metadata": {},
     "output_type": "execute_result"
    }
   ],
   "source": [
    "churning_rate_by_category.idxmax()"
   ]
  },
  {
   "cell_type": "code",
   "execution_count": 90,
   "id": "2ecbbcb9",
   "metadata": {},
   "outputs": [
    {
     "data": {
      "text/plain": [
       "'Clothing'"
      ]
     },
     "execution_count": 90,
     "metadata": {},
     "output_type": "execute_result"
    }
   ],
   "source": [
    "churning_rate_by_category.idxmin()"
   ]
  },
  {
   "cell_type": "code",
   "execution_count": null,
   "id": "77c77ae7",
   "metadata": {},
   "outputs": [],
   "source": []
  },
  {
   "cell_type": "code",
   "execution_count": 75,
   "id": "84a11e24",
   "metadata": {},
   "outputs": [
    {
     "data": {
      "text/html": [
       "<div>\n",
       "<style scoped>\n",
       "    .dataframe tbody tr th:only-of-type {\n",
       "        vertical-align: middle;\n",
       "    }\n",
       "\n",
       "    .dataframe tbody tr th {\n",
       "        vertical-align: top;\n",
       "    }\n",
       "\n",
       "    .dataframe thead th {\n",
       "        text-align: right;\n",
       "    }\n",
       "</style>\n",
       "<table border=\"1\" class=\"dataframe\">\n",
       "  <thead>\n",
       "    <tr style=\"text-align: right;\">\n",
       "      <th></th>\n",
       "      <th>Customer ID</th>\n",
       "      <th>Age</th>\n",
       "      <th>Gender</th>\n",
       "      <th>Region</th>\n",
       "      <th>Order Frequency</th>\n",
       "      <th>Average Order Value</th>\n",
       "      <th>Product Categories</th>\n",
       "      <th>Satisfaction Score</th>\n",
       "      <th>Churn</th>\n",
       "    </tr>\n",
       "  </thead>\n",
       "  <tbody>\n",
       "    <tr>\n",
       "      <th>0</th>\n",
       "      <td>1</td>\n",
       "      <td>63</td>\n",
       "      <td>Male</td>\n",
       "      <td>South</td>\n",
       "      <td>8</td>\n",
       "      <td>72.939689</td>\n",
       "      <td>Home</td>\n",
       "      <td>4</td>\n",
       "      <td>0</td>\n",
       "    </tr>\n",
       "    <tr>\n",
       "      <th>1</th>\n",
       "      <td>2</td>\n",
       "      <td>20</td>\n",
       "      <td>Male</td>\n",
       "      <td>North</td>\n",
       "      <td>5</td>\n",
       "      <td>33.997872</td>\n",
       "      <td>Books</td>\n",
       "      <td>4</td>\n",
       "      <td>0</td>\n",
       "    </tr>\n",
       "    <tr>\n",
       "      <th>2</th>\n",
       "      <td>3</td>\n",
       "      <td>46</td>\n",
       "      <td>Male</td>\n",
       "      <td>West</td>\n",
       "      <td>9</td>\n",
       "      <td>207.372406</td>\n",
       "      <td>Electronics</td>\n",
       "      <td>1</td>\n",
       "      <td>0</td>\n",
       "    </tr>\n",
       "    <tr>\n",
       "      <th>3</th>\n",
       "      <td>4</td>\n",
       "      <td>52</td>\n",
       "      <td>Female</td>\n",
       "      <td>East</td>\n",
       "      <td>3</td>\n",
       "      <td>433.545244</td>\n",
       "      <td>Books</td>\n",
       "      <td>1</td>\n",
       "      <td>0</td>\n",
       "    </tr>\n",
       "    <tr>\n",
       "      <th>4</th>\n",
       "      <td>5</td>\n",
       "      <td>56</td>\n",
       "      <td>Male</td>\n",
       "      <td>West</td>\n",
       "      <td>1</td>\n",
       "      <td>347.219821</td>\n",
       "      <td>Home</td>\n",
       "      <td>4</td>\n",
       "      <td>1</td>\n",
       "    </tr>\n",
       "  </tbody>\n",
       "</table>\n",
       "</div>"
      ],
      "text/plain": [
       "   Customer ID  Age  Gender Region  Order Frequency  Average Order Value  \\\n",
       "0            1   63    Male  South                8            72.939689   \n",
       "1            2   20    Male  North                5            33.997872   \n",
       "2            3   46    Male   West                9           207.372406   \n",
       "3            4   52  Female   East                3           433.545244   \n",
       "4            5   56    Male   West                1           347.219821   \n",
       "\n",
       "  Product Categories  Satisfaction Score  Churn  \n",
       "0               Home                   4      0  \n",
       "1              Books                   4      0  \n",
       "2        Electronics                   1      0  \n",
       "3              Books                   1      0  \n",
       "4               Home                   4      1  "
      ]
     },
     "execution_count": 75,
     "metadata": {},
     "output_type": "execute_result"
    }
   ],
   "source": [
    "df.head()"
   ]
  },
  {
   "cell_type": "code",
   "execution_count": 80,
   "id": "da718ab6",
   "metadata": {},
   "outputs": [
    {
     "data": {
      "text/plain": [
       "Region\n",
       "East     67\n",
       "South    48\n",
       "West     48\n",
       "North    44\n",
       "Name: Churn, dtype: int64"
      ]
     },
     "execution_count": 80,
     "metadata": {},
     "output_type": "execute_result"
    }
   ],
   "source": [
    "df.groupby('Region')['Churn'].sum().sort_values(ascending =False)"
   ]
  },
  {
   "cell_type": "markdown",
   "id": "af38142c",
   "metadata": {},
   "source": [
    "# Analyse in which Gender we have a High Churning rate."
   ]
  },
  {
   "cell_type": "code",
   "execution_count": 84,
   "id": "13e5b63c",
   "metadata": {},
   "outputs": [
    {
     "data": {
      "text/plain": [
       "Gender\n",
       "Male      114\n",
       "Female     93\n",
       "Name: Churn, dtype: int64"
      ]
     },
     "execution_count": 84,
     "metadata": {},
     "output_type": "execute_result"
    }
   ],
   "source": [
    "df.groupby('Gender')['Churn'].sum().sort_values(ascending =False)"
   ]
  },
  {
   "cell_type": "markdown",
   "id": "c9e44d36",
   "metadata": {},
   "source": [
    "# Find out for each region which category of product has a high churning rate"
   ]
  },
  {
   "cell_type": "code",
   "execution_count": 102,
   "id": "4354be22",
   "metadata": {},
   "outputs": [
    {
     "data": {
      "text/plain": [
       "Region  Product Categories\n",
       "East    Beauty                0.260870\n",
       "        Books                 0.166667\n",
       "        Clothing              0.254237\n",
       "        Electronics           0.275362\n",
       "        Home                  0.224138\n",
       "North   Beauty                0.250000\n",
       "        Books                 0.157895\n",
       "        Clothing              0.125000\n",
       "        Electronics           0.148936\n",
       "        Home                  0.226415\n",
       "South   Beauty                0.166667\n",
       "        Books                 0.204545\n",
       "        Clothing              0.178571\n",
       "        Electronics           0.181818\n",
       "        Home                  0.224138\n",
       "West    Beauty                0.256410\n",
       "        Books                 0.208333\n",
       "        Clothing              0.156863\n",
       "        Electronics           0.255814\n",
       "        Home                  0.176471\n",
       "Name: Churn, dtype: float64"
      ]
     },
     "execution_count": 102,
     "metadata": {},
     "output_type": "execute_result"
    }
   ],
   "source": [
    "df.groupby(['Region','Product Categories'])['Churn'].mean().sort_index(level=0)"
   ]
  },
  {
   "cell_type": "code",
   "execution_count": 103,
   "id": "67571b9d",
   "metadata": {},
   "outputs": [
    {
     "data": {
      "text/plain": [
       "0.9082460000000001"
      ]
     },
     "execution_count": 103,
     "metadata": {},
     "output_type": "execute_result"
    }
   ],
   "source": [
    " 0.250000+ 0.157895+0.125000+0.148936+0.226415"
   ]
  },
  {
   "cell_type": "code",
   "execution_count": 163,
   "id": "9f6d441f",
   "metadata": {},
   "outputs": [
    {
     "data": {
      "text/plain": [
       "Region  Product Categories\n",
       "East    Beauty                0.260870\n",
       "        Books                 0.166667\n",
       "        Clothing              0.254237\n",
       "        Electronics           0.275362\n",
       "        Home                  0.224138\n",
       "North   Beauty                0.250000\n",
       "        Books                 0.157895\n",
       "        Clothing              0.125000\n",
       "        Electronics           0.148936\n",
       "        Home                  0.226415\n",
       "South   Beauty                0.166667\n",
       "        Books                 0.204545\n",
       "        Clothing              0.178571\n",
       "        Electronics           0.181818\n",
       "        Home                  0.224138\n",
       "West    Beauty                0.256410\n",
       "        Books                 0.208333\n",
       "        Clothing              0.156863\n",
       "        Electronics           0.255814\n",
       "        Home                  0.176471\n",
       "Name: Churn, dtype: float64"
      ]
     },
     "execution_count": 163,
     "metadata": {},
     "output_type": "execute_result"
    }
   ],
   "source": [
    "df.groupby(['Region','Product Categories'])['Churn'].mean().sort_index(level=0)"
   ]
  },
  {
   "cell_type": "code",
   "execution_count": 161,
   "id": "86e1f4e9",
   "metadata": {},
   "outputs": [
    {
     "data": {
      "text/html": [
       "<div>\n",
       "<style scoped>\n",
       "    .dataframe tbody tr th:only-of-type {\n",
       "        vertical-align: middle;\n",
       "    }\n",
       "\n",
       "    .dataframe tbody tr th {\n",
       "        vertical-align: top;\n",
       "    }\n",
       "\n",
       "    .dataframe thead th {\n",
       "        text-align: right;\n",
       "    }\n",
       "</style>\n",
       "<table border=\"1\" class=\"dataframe\">\n",
       "  <thead>\n",
       "    <tr style=\"text-align: right;\">\n",
       "      <th></th>\n",
       "      <th>Region</th>\n",
       "      <th>Highest_Churn_Rate_Product_Category</th>\n",
       "    </tr>\n",
       "  </thead>\n",
       "  <tbody>\n",
       "    <tr>\n",
       "      <th>0</th>\n",
       "      <td>East</td>\n",
       "      <td>(East, Electronics)</td>\n",
       "    </tr>\n",
       "    <tr>\n",
       "      <th>1</th>\n",
       "      <td>North</td>\n",
       "      <td>(North, Beauty)</td>\n",
       "    </tr>\n",
       "    <tr>\n",
       "      <th>2</th>\n",
       "      <td>South</td>\n",
       "      <td>(South, Home)</td>\n",
       "    </tr>\n",
       "    <tr>\n",
       "      <th>3</th>\n",
       "      <td>West</td>\n",
       "      <td>(West, Beauty)</td>\n",
       "    </tr>\n",
       "  </tbody>\n",
       "</table>\n",
       "</div>"
      ],
      "text/plain": [
       "  Region Highest_Churn_Rate_Product_Category\n",
       "0   East                 (East, Electronics)\n",
       "1  North                     (North, Beauty)\n",
       "2  South                       (South, Home)\n",
       "3   West                      (West, Beauty)"
      ]
     },
     "execution_count": 161,
     "metadata": {},
     "output_type": "execute_result"
    }
   ],
   "source": [
    "df.groupby(['Region', 'Product Categories'])['Churn'].mean().groupby(level=0).idxmax().reset_index(name='Highest_Churn_Rate_Product_Category')\n"
   ]
  },
  {
   "cell_type": "code",
   "execution_count": null,
   "id": "aa13a509",
   "metadata": {},
   "outputs": [],
   "source": []
  },
  {
   "cell_type": "code",
   "execution_count": null,
   "id": "6cb0c31a",
   "metadata": {},
   "outputs": [],
   "source": []
  },
  {
   "cell_type": "markdown",
   "id": "06a3fcf4",
   "metadata": {},
   "source": [
    "# Plot the graph for Category wise Churn Rate. From the graph tell us which category has the highest churning rate and how much."
   ]
  },
  {
   "cell_type": "code",
   "execution_count": 114,
   "id": "06513711",
   "metadata": {},
   "outputs": [],
   "source": [
    "graph_churn=df.groupby('Product Categories')['Churn'].mean().sort_values(ascending =False)"
   ]
  },
  {
   "cell_type": "code",
   "execution_count": 115,
   "id": "a739f594",
   "metadata": {},
   "outputs": [
    {
     "data": {
      "text/plain": [
       "Product Categories\n",
       "Beauty         0.232432\n",
       "Electronics    0.221675\n",
       "Home           0.213636\n",
       "Books          0.185393\n",
       "Clothing       0.182243\n",
       "Name: Churn, dtype: float64"
      ]
     },
     "execution_count": 115,
     "metadata": {},
     "output_type": "execute_result"
    }
   ],
   "source": [
    "graph_churn"
   ]
  },
  {
   "cell_type": "code",
   "execution_count": 116,
   "id": "b36898f6",
   "metadata": {},
   "outputs": [
    {
     "data": {
      "text/plain": [
       "<Axes: xlabel='Product Categories'>"
      ]
     },
     "execution_count": 116,
     "metadata": {},
     "output_type": "execute_result"
    },
    {
     "data": {
      "image/png": "[encoded data removed]",
      "text/plain": [
       "<Figure size 640x480 with 1 Axes>"
      ]
     },
     "metadata": {},
     "output_type": "display_data"
    }
   ],
   "source": [
    "graph_churn.plot(kind='bar')"
   ]
  },
  {
   "cell_type": "markdown",
   "id": "90e9e1e6",
   "metadata": {},
   "source": [
    "# Plot the graph for Region wise Churning Rate. From the graph tell us which region has the highest churning rate and how much."
   ]
  },
  {
   "cell_type": "code",
   "execution_count": 125,
   "id": "c2d2bf72",
   "metadata": {},
   "outputs": [],
   "source": [
    "graph_region=df.groupby('Region')['Churn'].mean()"
   ]
  },
  {
   "cell_type": "code",
   "execution_count": 126,
   "id": "8f6b5901",
   "metadata": {},
   "outputs": [
    {
     "data": {
      "text/plain": [
       "Region\n",
       "East     0.239286\n",
       "North    0.184874\n",
       "South    0.192000\n",
       "West     0.206897\n",
       "Name: Churn, dtype: float64"
      ]
     },
     "execution_count": 126,
     "metadata": {},
     "output_type": "execute_result"
    }
   ],
   "source": [
    "graph_region"
   ]
  },
  {
   "cell_type": "code",
   "execution_count": 144,
   "id": "5f05a5ba",
   "metadata": {},
   "outputs": [
    {
     "data": {
      "text/plain": [
       "<Axes: >"
      ]
     },
     "execution_count": 144,
     "metadata": {},
     "output_type": "execute_result"
    },
    {
     "data": {
      "image/png": "[encoded data removed]",
      "text/plain": [
       "<Figure size 640x480 with 1 Axes>"
      ]
     },
     "metadata": {},
     "output_type": "display_data"
    }
   ],
   "source": [
    "graph_region.plot(kind='bar')"
   ]
  },
  {
   "cell_type": "code",
   "execution_count": 137,
   "id": "bab6948c",
   "metadata": {},
   "outputs": [],
   "source": [
    "graph_region=df.groupby('Region')['Churn'].mean().reset_index()"
   ]
  },
  {
   "cell_type": "code",
   "execution_count": 138,
   "id": "03d5f8af",
   "metadata": {},
   "outputs": [
    {
     "data": {
      "text/html": [
       "<div>\n",
       "<style scoped>\n",
       "    .dataframe tbody tr th:only-of-type {\n",
       "        vertical-align: middle;\n",
       "    }\n",
       "\n",
       "    .dataframe tbody tr th {\n",
       "        vertical-align: top;\n",
       "    }\n",
       "\n",
       "    .dataframe thead th {\n",
       "        text-align: right;\n",
       "    }\n",
       "</style>\n",
       "<table border=\"1\" class=\"dataframe\">\n",
       "  <thead>\n",
       "    <tr style=\"text-align: right;\">\n",
       "      <th></th>\n",
       "      <th>Region</th>\n",
       "      <th>Churn</th>\n",
       "    </tr>\n",
       "  </thead>\n",
       "  <tbody>\n",
       "    <tr>\n",
       "      <th>0</th>\n",
       "      <td>East</td>\n",
       "      <td>0.239286</td>\n",
       "    </tr>\n",
       "    <tr>\n",
       "      <th>1</th>\n",
       "      <td>North</td>\n",
       "      <td>0.184874</td>\n",
       "    </tr>\n",
       "    <tr>\n",
       "      <th>2</th>\n",
       "      <td>South</td>\n",
       "      <td>0.192000</td>\n",
       "    </tr>\n",
       "    <tr>\n",
       "      <th>3</th>\n",
       "      <td>West</td>\n",
       "      <td>0.206897</td>\n",
       "    </tr>\n",
       "  </tbody>\n",
       "</table>\n",
       "</div>"
      ],
      "text/plain": [
       "  Region     Churn\n",
       "0   East  0.239286\n",
       "1  North  0.184874\n",
       "2  South  0.192000\n",
       "3   West  0.206897"
      ]
     },
     "execution_count": 138,
     "metadata": {},
     "output_type": "execute_result"
    }
   ],
   "source": [
    "graph_region"
   ]
  },
  {
   "cell_type": "code",
   "execution_count": 153,
   "id": "17abd194",
   "metadata": {},
   "outputs": [
    {
     "data": {
      "image/png": "[encoded data removed]",
      "text/plain": [
       "<Figure size 640x480 with 1 Axes>"
      ]
     },
     "metadata": {},
     "output_type": "display_data"
    }
   ],
   "source": [
    "sd =sns.barplot(x='Region', y='Churn', data = graph_region)\n",
    "sd.bar_label(sd.containers[0])\n",
    "plt.show()\n"
   ]
  },
  {
   "cell_type": "markdown",
   "id": "e1b2e64c",
   "metadata": {},
   "source": [
    "# Plot the graph for the Gender wise Churning Rate. From the graph tell us which gender has the lowest churning rate and how much."
   ]
  },
  {
   "cell_type": "raw",
   "id": "ee83ddbe",
   "metadata": {},
   "source": []
  },
  {
   "cell_type": "code",
   "execution_count": null,
   "id": "dc663da0",
   "metadata": {},
   "outputs": [],
   "source": []
  },
  {
   "cell_type": "code",
   "execution_count": 145,
   "id": "7be169af",
   "metadata": {},
   "outputs": [],
   "source": [
    "graph_Gender=df.groupby('Gender')['Churn'].mean()"
   ]
  },
  {
   "cell_type": "code",
   "execution_count": 149,
   "id": "6ce50c3a",
   "metadata": {},
   "outputs": [
    {
     "data": {
      "text/plain": [
       "<Axes: >"
      ]
     },
     "execution_count": 149,
     "metadata": {},
     "output_type": "execute_result"
    },
    {
     "data": {
      "image/png": "[encoded data removed]",
      "text/plain": [
       "<Figure size 640x480 with 1 Axes>"
      ]
     },
     "metadata": {},
     "output_type": "display_data"
    }
   ],
   "source": [
    "graph_Gender.plot(kind='bar')"
   ]
  },
  {
   "cell_type": "code",
   "execution_count": 150,
   "id": "67b6d448",
   "metadata": {},
   "outputs": [],
   "source": [
    "graph_Gender=df.groupby('Gender')['Churn'].mean().reset_index()"
   ]
  },
  {
   "cell_type": "code",
   "execution_count": 151,
   "id": "f416547b",
   "metadata": {},
   "outputs": [
    {
     "data": {
      "text/html": [
       "<div>\n",
       "<style scoped>\n",
       "    .dataframe tbody tr th:only-of-type {\n",
       "        vertical-align: middle;\n",
       "    }\n",
       "\n",
       "    .dataframe tbody tr th {\n",
       "        vertical-align: top;\n",
       "    }\n",
       "\n",
       "    .dataframe thead th {\n",
       "        text-align: right;\n",
       "    }\n",
       "</style>\n",
       "<table border=\"1\" class=\"dataframe\">\n",
       "  <thead>\n",
       "    <tr style=\"text-align: right;\">\n",
       "      <th></th>\n",
       "      <th>Gender</th>\n",
       "      <th>Churn</th>\n",
       "    </tr>\n",
       "  </thead>\n",
       "  <tbody>\n",
       "    <tr>\n",
       "      <th>0</th>\n",
       "      <td>Female</td>\n",
       "      <td>0.190574</td>\n",
       "    </tr>\n",
       "    <tr>\n",
       "      <th>1</th>\n",
       "      <td>Male</td>\n",
       "      <td>0.222656</td>\n",
       "    </tr>\n",
       "  </tbody>\n",
       "</table>\n",
       "</div>"
      ],
      "text/plain": [
       "   Gender     Churn\n",
       "0  Female  0.190574\n",
       "1    Male  0.222656"
      ]
     },
     "execution_count": 151,
     "metadata": {},
     "output_type": "execute_result"
    }
   ],
   "source": [
    "graph_Gender"
   ]
  },
  {
   "cell_type": "code",
   "execution_count": 156,
   "id": "9b2424ab",
   "metadata": {},
   "outputs": [
    {
     "data": {
      "text/plain": [
       "[Text(0, 0, '0.190574'), Text(0, 0, '0.222656')]"
      ]
     },
     "execution_count": 156,
     "metadata": {},
     "output_type": "execute_result"
    },
    {
     "data": {
      "image/png": "[encoded data removed]",
      "text/plain": [
       "<Figure size 640x480 with 1 Axes>"
      ]
     },
     "metadata": {},
     "output_type": "display_data"
    }
   ],
   "source": [
    "ss=sns.barplot(x='Gender', y='Churn', data = graph_Gender)\n",
    "ss.bar_label(ss.containers[0])"
   ]
  },
  {
   "cell_type": "code",
   "execution_count": null,
   "id": "1089724c",
   "metadata": {},
   "outputs": [],
   "source": []
  }
 ],
 "metadata": {
  "kernelspec": {
   "display_name": "Python 3 (ipykernel)",
   "language": "python",
   "name": "python3"
  },
  "language_info": {
   "codemirror_mode": {
    "name": "ipython",
    "version": 3
   },
   "file_extension": ".py",
   "mimetype": "text/x-python",
   "name": "python",
   "nbconvert_exporter": "python",
   "pygments_lexer": "ipython3",
   "version": "3.11.3"
  }
 },
 "nbformat": 4,
 "nbformat_minor": 5
}
